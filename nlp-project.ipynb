{
 "cells": [
  {
   "cell_type": "code",
   "execution_count": 1,
   "metadata": {
    "execution": {
     "iopub.execute_input": "2024-12-08T06:15:26.354997Z",
     "iopub.status.busy": "2024-12-08T06:15:26.354731Z",
     "iopub.status.idle": "2024-12-08T06:15:38.286007Z",
     "shell.execute_reply": "2024-12-08T06:15:38.284918Z",
     "shell.execute_reply.started": "2024-12-08T06:15:26.354969Z"
    }
   },
   "outputs": [
    {
     "name": "stdout",
     "output_type": "stream",
     "text": [
      "Collecting bitsandbytes\n",
      "  Downloading bitsandbytes-0.45.0-py3-none-manylinux_2_24_x86_64.whl.metadata (2.9 kB)\n",
      "Requirement already satisfied: torch in /opt/conda/lib/python3.10/site-packages (from bitsandbytes) (2.4.0)\n",
      "Requirement already satisfied: numpy in /opt/conda/lib/python3.10/site-packages (from bitsandbytes) (1.26.4)\n",
      "Requirement already satisfied: typing_extensions>=4.8.0 in /opt/conda/lib/python3.10/site-packages (from bitsandbytes) (4.12.2)\n",
      "Requirement already satisfied: filelock in /opt/conda/lib/python3.10/site-packages (from torch->bitsandbytes) (3.15.1)\n",
      "Requirement already satisfied: sympy in /opt/conda/lib/python3.10/site-packages (from torch->bitsandbytes) (1.13.3)\n",
      "Requirement already satisfied: networkx in /opt/conda/lib/python3.10/site-packages (from torch->bitsandbytes) (3.3)\n",
      "Requirement already satisfied: jinja2 in /opt/conda/lib/python3.10/site-packages (from torch->bitsandbytes) (3.1.4)\n",
      "Requirement already satisfied: fsspec in /opt/conda/lib/python3.10/site-packages (from torch->bitsandbytes) (2024.6.0)\n",
      "Requirement already satisfied: MarkupSafe>=2.0 in /opt/conda/lib/python3.10/site-packages (from jinja2->torch->bitsandbytes) (2.1.5)\n",
      "Requirement already satisfied: mpmath<1.4,>=1.1.0 in /opt/conda/lib/python3.10/site-packages (from sympy->torch->bitsandbytes) (1.3.0)\n",
      "Downloading bitsandbytes-0.45.0-py3-none-manylinux_2_24_x86_64.whl (69.1 MB)\n",
      "\u001b[2K   \u001b[90m━━━━━━━━━━━━━━━━━━━━━━━━━━━━━━━━━━━━━━━━\u001b[0m \u001b[32m69.1/69.1 MB\u001b[0m \u001b[31m24.7 MB/s\u001b[0m eta \u001b[36m0:00:00\u001b[0m:00:01\u001b[0m00:01\u001b[0m\n",
      "\u001b[?25hInstalling collected packages: bitsandbytes\n",
      "Successfully installed bitsandbytes-0.45.0\n"
     ]
    }
   ],
   "source": [
    "!pip install -U bitsandbytes"
   ]
  },
  {
   "cell_type": "code",
   "execution_count": 2,
   "metadata": {
    "execution": {
     "iopub.execute_input": "2024-12-08T06:15:38.288112Z",
     "iopub.status.busy": "2024-12-08T06:15:38.287826Z",
     "iopub.status.idle": "2024-12-08T06:15:55.312522Z",
     "shell.execute_reply": "2024-12-08T06:15:55.311836Z",
     "shell.execute_reply.started": "2024-12-08T06:15:38.288084Z"
    }
   },
   "outputs": [],
   "source": [
    "from transformers import AutoTokenizer, AutoModelForCausalLM, pipeline, BitsAndBytesConfig, LogitsProcessor, LogitsProcessorList\n",
    "import os\n",
    "import torch\n",
    "import json"
   ]
  },
  {
   "cell_type": "code",
   "execution_count": 3,
   "metadata": {
    "execution": {
     "iopub.execute_input": "2024-12-08T06:15:55.314342Z",
     "iopub.status.busy": "2024-12-08T06:15:55.313594Z",
     "iopub.status.idle": "2024-12-08T06:15:55.318652Z",
     "shell.execute_reply": "2024-12-08T06:15:55.317684Z",
     "shell.execute_reply.started": "2024-12-08T06:15:55.314295Z"
    }
   },
   "outputs": [],
   "source": [
    "# import sys\n",
    "# sys.path.append('/kaggle/input/nlp-project-data/')"
   ]
  },
  {
   "cell_type": "code",
   "execution_count": 4,
   "metadata": {
    "execution": {
     "iopub.execute_input": "2024-12-08T06:15:55.321381Z",
     "iopub.status.busy": "2024-12-08T06:15:55.321027Z",
     "iopub.status.idle": "2024-12-08T06:15:55.772426Z",
     "shell.execute_reply": "2024-12-08T06:15:55.771457Z",
     "shell.execute_reply.started": "2024-12-08T06:15:55.321344Z"
    }
   },
   "outputs": [],
   "source": [
    "from utils import match_x\n",
    "from tqdm import tqdm"
   ]
  },
  {
   "cell_type": "code",
   "execution_count": 5,
   "metadata": {
    "execution": {
     "iopub.execute_input": "2024-12-08T06:15:55.774106Z",
     "iopub.status.busy": "2024-12-08T06:15:55.773512Z",
     "iopub.status.idle": "2024-12-08T06:15:55.806486Z",
     "shell.execute_reply": "2024-12-08T06:15:55.805614Z",
     "shell.execute_reply.started": "2024-12-08T06:15:55.774066Z"
    }
   },
   "outputs": [],
   "source": [
    "data = match_x(sentences_file='sentences.json', identifiers_file='identifiers.json')"
   ]
  },
  {
   "cell_type": "code",
   "execution_count": 6,
   "metadata": {
    "execution": {
     "iopub.execute_input": "2024-12-08T06:15:55.808328Z",
     "iopub.status.busy": "2024-12-08T06:15:55.807688Z",
     "iopub.status.idle": "2024-12-08T06:15:55.814757Z",
     "shell.execute_reply": "2024-12-08T06:15:55.813932Z",
     "shell.execute_reply.started": "2024-12-08T06:15:55.808298Z"
    }
   },
   "outputs": [],
   "source": [
    "texts = []\n",
    "for _, x in data.items():\n",
    "    texts.append([])\n",
    "    for sentence in x:\n",
    "        texts[-1].append(sentence['x'])\n",
    "\n",
    "texts = texts[:100]"
   ]
  },
  {
   "cell_type": "code",
   "execution_count": 7,
   "metadata": {
    "execution": {
     "iopub.execute_input": "2024-12-08T06:15:55.816015Z",
     "iopub.status.busy": "2024-12-08T06:15:55.815769Z",
     "iopub.status.idle": "2024-12-08T06:17:44.758121Z",
     "shell.execute_reply": "2024-12-08T06:17:44.757472Z",
     "shell.execute_reply.started": "2024-12-08T06:15:55.815989Z"
    }
   },
   "outputs": [
    {
     "name": "stderr",
     "output_type": "stream",
     "text": [
      "Unused kwargs: ['bnb_8bit_quant_type']. These kwargs are not used in <class 'transformers.utils.quantization_config.BitsAndBytesConfig'>.\n"
     ]
    },
    {
     "data": {
      "application/vnd.jupyter.widget-view+json": {
       "model_id": "9feaafd6273d40699b853132d12143b4",
       "version_major": 2,
       "version_minor": 0
      },
      "text/plain": [
       "Loading checkpoint shards:   0%|          | 0/4 [00:00<?, ?it/s]"
      ]
     },
     "metadata": {},
     "output_type": "display_data"
    }
   ],
   "source": [
    "model_path = \"llama-3/transformers/8b-chat-hf/1\"\n",
    "\n",
    "bnb_config = BitsAndBytesConfig(\n",
    "            load_in_4bit=True,\n",
    "            bnb_8bit_quant_type=\"nf4\",\n",
    "            bnb_4bit_compute_dtype=torch.float16,\n",
    "            # bnb_4bit_use_double_quant=True,\n",
    "#             llm_int8_enable_fp32_cpu_offload=True\n",
    "        )\n",
    "\n",
    "tokenizer = AutoTokenizer.from_pretrained(model_path)\n",
    "model = AutoModelForCausalLM.from_pretrained(model_path, \n",
    "                                             device_map=\"auto\", \n",
    "                                             low_cpu_mem_usage=True,\n",
    "                                             quantization_config=bnb_config,\n",
    "                                            )"
   ]
  },
  {
   "cell_type": "code",
   "execution_count": 8,
   "metadata": {
    "execution": {
     "iopub.execute_input": "2024-12-08T06:17:44.759281Z",
     "iopub.status.busy": "2024-12-08T06:17:44.759029Z",
     "iopub.status.idle": "2024-12-08T06:17:44.763156Z",
     "shell.execute_reply": "2024-12-08T06:17:44.762404Z",
     "shell.execute_reply.started": "2024-12-08T06:17:44.759231Z"
    }
   },
   "outputs": [],
   "source": [
    "tokenizer.pad_token = tokenizer.eos_token"
   ]
  },
  {
   "cell_type": "code",
   "execution_count": 9,
   "metadata": {
    "execution": {
     "iopub.execute_input": "2024-12-08T06:17:44.764712Z",
     "iopub.status.busy": "2024-12-08T06:17:44.764164Z",
     "iopub.status.idle": "2024-12-08T06:17:44.777569Z",
     "shell.execute_reply": "2024-12-08T06:17:44.776773Z",
     "shell.execute_reply.started": "2024-12-08T06:17:44.764655Z"
    }
   },
   "outputs": [],
   "source": [
    "max_steps = 0\n",
    "\n",
    "def create_prompts(texts):\n",
    "    prompts = []\n",
    "    global max_steps\n",
    "    for text in texts:\n",
    "        max_steps = max(max_steps, len(text))\n",
    "        prompt = \"### Instructions: \\n\"\n",
    "        # prompt += \"The following sentences represent steps of a recipe but the order are shuffled.:\\n\\n\"\n",
    "        prompt += \"The following sentences represent steps of a recipe but the order are shuffled.\\\n",
    "                   Plesse reorder and then concatenate them to match the correct sequence for the recipe:\\n\\n\"\n",
    "        for step in text:\n",
    "            prompt += f\"{step}\\n\"\n",
    "        # prompt += f\"\\nReorder them to match the correct sequence for the recipe.\\\n",
    "        #             Please only output the correct order in numerical numbers sequence, splitted by comma and only include {len(text)} numbers :\\n\\n\"\n",
    "        \n",
    "        prompt += \"\\n### Correct Order Sequences:\"\n",
    "        prompts.append(prompt)\n",
    "    print(f\"max steps: {max_steps}\")\n",
    "    return prompts"
   ]
  },
  {
   "cell_type": "code",
   "execution_count": 13,
   "metadata": {
    "execution": {
     "iopub.execute_input": "2024-12-08T06:17:44.819504Z",
     "iopub.status.busy": "2024-12-08T06:17:44.819228Z",
     "iopub.status.idle": "2024-12-08T07:01:00.984537Z",
     "shell.execute_reply": "2024-12-08T07:01:00.983646Z",
     "shell.execute_reply.started": "2024-12-08T06:17:44.819480Z"
    }
   },
   "outputs": [
    {
     "name": "stderr",
     "output_type": "stream",
     "text": [
      "  0%|          | 0/100 [00:00<?, ?it/s]/opt/conda/lib/python3.10/site-packages/transformers/generation/utils.py:2097: UserWarning: You are calling .generate() with the `input_ids` being on a device type different than your model's device. `input_ids` is on cpu, whereas the model is on cuda. You may experience unexpected behaviors or slower generation. Please make sure that you have put `input_ids` to the correct device by calling for example input_ids = input_ids.to('cuda') before running `.generate()`.\n",
      "  warnings.warn(\n",
      "100%|██████████| 100/100 [43:16<00:00, 25.96s/it]\n"
     ]
    }
   ],
   "source": [
    "def reorder_recipe_steps(prompts):\n",
    "    results = []\n",
    "    for prompt in tqdm(prompts):\n",
    "        \n",
    "        inputs  = tokenizer(prompt, return_tensors=\"pt\")\n",
    "        \n",
    "        outputs = model.generate(\n",
    "            **inputs,\n",
    "            max_new_tokens = 512,\n",
    "            pad_token_id=tokenizer.eos_token_id,\n",
    "        )\n",
    "        res = tokenizer.decode(outputs[0], skip_special_tokens=True)\n",
    "        try:\n",
    "            results.append(res.split(\"### Correct Order Sequences:\")[1])\n",
    "        except:\n",
    "            results.append('')\n",
    "    return results\n",
    "\n",
    "results = reorder_recipe_steps(prompts)"
   ]
  },
  {
   "cell_type": "code",
   "execution_count": 14,
   "metadata": {
    "execution": {
     "iopub.execute_input": "2024-12-08T07:01:00.986169Z",
     "iopub.status.busy": "2024-12-08T07:01:00.985899Z",
     "iopub.status.idle": "2024-12-08T07:01:00.992425Z",
     "shell.execute_reply": "2024-12-08T07:01:00.991625Z",
     "shell.execute_reply.started": "2024-12-08T07:01:00.986142Z"
    }
   },
   "outputs": [],
   "source": [
    "answers = {'answers': results}\n",
    "with open(\"answers.json\", \"w\", encoding=\"utf-8\") as file:\n",
    "    json.dump(answers, file)"
   ]
  }
 ],
 "metadata": {
  "kaggle": {
   "accelerator": "gpu",
   "dataSources": [
    {
     "datasetId": 6253602,
     "sourceId": 10132657,
     "sourceType": "datasetVersion"
    },
    {
     "isSourceIdPinned": true,
     "modelId": 39106,
     "modelInstanceId": 28083,
     "sourceId": 33551,
     "sourceType": "modelInstanceVersion"
    }
   ],
   "dockerImageVersionId": 30805,
   "isGpuEnabled": true,
   "isInternetEnabled": true,
   "language": "python",
   "sourceType": "notebook"
  },
  "kernelspec": {
   "display_name": "Python 3 (ipykernel)",
   "language": "python",
   "name": "python3"
  },
  "language_info": {
   "codemirror_mode": {
    "name": "ipython",
    "version": 3
   },
   "file_extension": ".py",
   "mimetype": "text/x-python",
   "name": "python",
   "nbconvert_exporter": "python",
   "pygments_lexer": "ipython3",
   "version": "3.11.4"
  }
 },
 "nbformat": 4,
 "nbformat_minor": 4
}
